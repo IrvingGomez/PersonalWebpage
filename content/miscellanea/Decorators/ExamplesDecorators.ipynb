{
 "cells": [
  {
   "cell_type": "markdown",
   "metadata": {},
   "source": [
    "Examples taken from https://towardsdatascience.com/an-in-depth-tutorial-to-python-decorators-that-you-can-actually-use-1e34d3d2d305"
   ]
  },
  {
   "cell_type": "markdown",
   "metadata": {},
   "source": [
    "## Functions Are Objects"
   ]
  },
  {
   "cell_type": "code",
   "execution_count": 1,
   "metadata": {},
   "outputs": [],
   "source": [
    "func_dict = {\n",
    "    'lower': str.lower,\n",
    "    'print': print,\n",
    "    'range': range,\n",
    "    'startswith': str.startswith\n",
    "    }"
   ]
  },
  {
   "cell_type": "code",
   "execution_count": 2,
   "metadata": {},
   "outputs": [
    {
     "name": "stdout",
     "output_type": "stream",
     "text": [
      "python\n"
     ]
    }
   ],
   "source": [
    "func_dict['print'](func_dict['lower']('PYTHON'))"
   ]
  },
  {
   "cell_type": "markdown",
   "metadata": {},
   "source": [
    "## Scope"
   ]
  },
  {
   "cell_type": "markdown",
   "metadata": {},
   "source": [
    "Python provides us with a keyword that lets us specify that we are referring to names in the global scope:"
   ]
  },
  {
   "cell_type": "code",
   "execution_count": 4,
   "metadata": {},
   "outputs": [
    {
     "name": "stdout",
     "output_type": "stream",
     "text": [
      "some text\n",
      "24\n"
     ]
    }
   ],
   "source": [
    "a = 24\n",
    "\n",
    "# Before\n",
    "def foo():\n",
    "    a = 'some text'  # still local\n",
    "    print(a)\n",
    "\n",
    "foo()\n",
    "print(a)"
   ]
  },
  {
   "cell_type": "code",
   "execution_count": 5,
   "metadata": {},
   "outputs": [
    {
     "name": "stdout",
     "output_type": "stream",
     "text": [
      "some text\n",
      "some text\n"
     ]
    }
   ],
   "source": [
    "# Using `global` keyword\n",
    "# After\n",
    "def foo():\n",
    "    global a\n",
    "    a = 'some text'  # now accessed the `a` from global\n",
    "    print(a)\n",
    "foo()\n",
    "print(a)"
   ]
  },
  {
   "cell_type": "markdown",
   "metadata": {},
   "source": [
    "Between global and local, there is one level: nonlocal scope comes into play when we have nested functions:"
   ]
  },
  {
   "cell_type": "code",
   "execution_count": 6,
   "metadata": {},
   "outputs": [
    {
     "name": "stdout",
     "output_type": "stream",
     "text": [
      "Data Science\n",
      "Python\n"
     ]
    }
   ],
   "source": [
    "def outer():\n",
    "     # Create a dummy variable\n",
    "     my_var = 'Python'\n",
    "     \n",
    "     def inner():\n",
    "         # Try to change the value of the dummy\n",
    "         my_var = 'Data Science'\n",
    "         print(my_var)\n",
    "     # Call the inner function which tries to modify `my_var`\n",
    "     inner()\n",
    "     # Check if successful\n",
    "     print(my_var)\n",
    " \n",
    "outer()"
   ]
  },
  {
   "cell_type": "markdown",
   "metadata": {},
   "source": [
    "We cannot use global keyword since my_var is not in the global scope.\n",
    "\n",
    "For such cases, you can use nonlocal keyword that gives access to all the names in the scope of the outer function (nonlocal) but not the global:"
   ]
  },
  {
   "cell_type": "code",
   "execution_count": 7,
   "metadata": {},
   "outputs": [
    {
     "name": "stdout",
     "output_type": "stream",
     "text": [
      "Data Science\n",
      "Data Science\n"
     ]
    }
   ],
   "source": [
    "def outer():\n",
    "     # Create a dummy variable\n",
    "     my_var = 'Python'\n",
    "     \n",
    "     def inner():\n",
    "         # Try to change the value of the dummy with nonlocal\n",
    "         nonlocal my_var\n",
    "         my_var = 'Data Science'\n",
    "         print(my_var)\n",
    "     # Call the inner function which tries to modify `my_var`\n",
    "     inner()\n",
    "     # Check if successful\n",
    "     print(my_var)\n",
    " \n",
    "outer()"
   ]
  },
  {
   "cell_type": "markdown",
   "metadata": {},
   "source": [
    "There can be four levels of scope in a single script/program:\n",
    "\n",
    "- Built-in: all the package names installed with Python, pip and conda\n",
    "- Global: general scope, all names that have no indentation in the script\n",
    "- Local: contains local variables in code blocks such as functions, loops, list comprehensions, etc.\n",
    "- Nonlocal: an extra level of scope between global and local in the case of nested functions"
   ]
  },
  {
   "cell_type": "markdown",
   "metadata": {},
   "source": [
    "## Closures"
   ]
  },
  {
   "cell_type": "code",
   "execution_count": 8,
   "metadata": {},
   "outputs": [],
   "source": [
    "def foo():\n",
    "    x = 42\n",
    "    \n",
    "    def bar():\n",
    "        print(x)\n",
    "    \n",
    "    return bar"
   ]
  },
  {
   "cell_type": "code",
   "execution_count": 9,
   "metadata": {},
   "outputs": [],
   "source": [
    "# var is assigned to `bar` because we are returning it inside `foo`\n",
    "var = foo()  "
   ]
  },
  {
   "cell_type": "code",
   "execution_count": 10,
   "metadata": {},
   "outputs": [
    {
     "name": "stdout",
     "output_type": "stream",
     "text": [
      "42\n"
     ]
    }
   ],
   "source": [
    "var()"
   ]
  },
  {
   "cell_type": "markdown",
   "metadata": {},
   "source": [
    "But wait a minute, how does var know anything about x? x is defined in foo's scope, not bar's. You would think that x cannot be accessible outside the scope of foo. That's where closures come in."
   ]
  },
  {
   "cell_type": "markdown",
   "metadata": {},
   "source": [
    "Closure is a built-in memory of a function that contains all the nonlocal names (in a tuple) the function needs to run!"
   ]
  },
  {
   "cell_type": "code",
   "execution_count": 11,
   "metadata": {},
   "outputs": [
    {
     "data": {
      "text/plain": [
       "(<cell at 0x7f86b3154f70: int object at 0x7f86b5b20610>,)"
      ]
     },
     "execution_count": 11,
     "metadata": {},
     "output_type": "execute_result"
    }
   ],
   "source": [
    "var.__closure__"
   ]
  },
  {
   "cell_type": "code",
   "execution_count": 12,
   "metadata": {},
   "outputs": [
    {
     "data": {
      "text/plain": [
       "42"
      ]
     },
     "execution_count": 12,
     "metadata": {},
     "output_type": "execute_result"
    }
   ],
   "source": [
    "var.__closure__[0].cell_contents"
   ]
  },
  {
   "cell_type": "markdown",
   "metadata": {},
   "source": [
    "Once you access the closure of a function as a tuple, it will contain elements called cells with the value of a single nonlocal argument. There can be as many cells inside closure as the function needs:"
   ]
  },
  {
   "cell_type": "code",
   "execution_count": 13,
   "metadata": {},
   "outputs": [
    {
     "name": "stdout",
     "output_type": "stream",
     "text": [
      "100 \n",
      "\n",
      "Hello \n",
      "\n",
      "{'name': 'Jon', 'surname': 'smith'} \n",
      "\n"
     ]
    }
   ],
   "source": [
    "outside = 'global variable'  # not in closure because it is a global variable\n",
    "\n",
    "def parent():\n",
    "    x = 100     # x, y, x will be added to closure because they are nonlocal\n",
    "    y = 'Hello'\n",
    "    z = {'name': 'Jon',\n",
    "         'surname': 'smith'}\n",
    "    \n",
    "    def child():\n",
    "        # as we are printing x, y, and z, they get added to the closure\n",
    "        print(x, y, z)\n",
    "        value = 42  # not in the closure because value is not nonlocal\n",
    "    \n",
    "    return child\n",
    "\n",
    "# func is now assigned to `child` function\n",
    "func = parent()\n",
    "\n",
    "# print each cell in func's closure\n",
    "for cell in func.__closure__:\n",
    "    print(cell.cell_contents, '\\n')"
   ]
  },
  {
   "cell_type": "code",
   "execution_count": 14,
   "metadata": {},
   "outputs": [
    {
     "name": "stdout",
     "output_type": "stream",
     "text": [
      "100 \n",
      "\n",
      "Hello \n",
      "\n"
     ]
    }
   ],
   "source": [
    "outside = 'global variable'  # not in closure because it is a global variable\n",
    "\n",
    "def parent():\n",
    "    x = 100     # x, y, x will be added to closure because they are nonlocal\n",
    "    y = 'Hello'\n",
    "    z = {'name': 'Jon',\n",
    "         'surname': 'smith'}\n",
    "    \n",
    "    def child():\n",
    "        # as we are printing x, y, and z, they get added to the closure\n",
    "        print(x, y)\n",
    "        value = 42  # not in the closure because value is not nonlocal\n",
    "    \n",
    "    return child\n",
    "\n",
    "# func is now assigned to `child` function\n",
    "func = parent()\n",
    "\n",
    "# print each cell in func's closure\n",
    "for cell in func.__closure__:\n",
    "    print(cell.cell_contents, '\\n')"
   ]
  },
  {
   "cell_type": "markdown",
   "metadata": {},
   "source": [
    "Now, consider this trickier example:"
   ]
  },
  {
   "cell_type": "code",
   "execution_count": 15,
   "metadata": {},
   "outputs": [],
   "source": [
    "var = 'dummy'\n",
    "\n",
    "def parent(arg):\n",
    "    \n",
    "    def child():\n",
    "        print(arg)\n",
    "    \n",
    "    return child\n",
    "    \n",
    "func = parent(var)"
   ]
  },
  {
   "cell_type": "code",
   "execution_count": 16,
   "metadata": {},
   "outputs": [
    {
     "name": "stdout",
     "output_type": "stream",
     "text": [
      "dummy\n"
     ]
    }
   ],
   "source": [
    "func()"
   ]
  },
  {
   "cell_type": "code",
   "execution_count": 17,
   "metadata": {},
   "outputs": [
    {
     "name": "stdout",
     "output_type": "stream",
     "text": [
      "dummy\n"
     ]
    }
   ],
   "source": [
    "# Delete 'var'\n",
    "del var\n",
    "\n",
    "# call func again\n",
    "func()"
   ]
  },
  {
   "cell_type": "markdown",
   "metadata": {},
   "source": [
    "It still prints out ‘dummy’. Why?\n",
    "\n",
    "You guessed it, it got added to the closure! So, when a value from outer levels of scope gets added to closure, it will stay there unchanged even if we delete the original value!"
   ]
  },
  {
   "cell_type": "code",
   "execution_count": 18,
   "metadata": {},
   "outputs": [
    {
     "data": {
      "text/plain": [
       "'dummy'"
      ]
     },
     "execution_count": 18,
     "metadata": {},
     "output_type": "execute_result"
    }
   ],
   "source": [
    "func.__closure__[0].cell_contents"
   ]
  },
  {
   "cell_type": "markdown",
   "metadata": {},
   "source": [
    "If we did not delete var and changed its value, the closure would still contain its old value:"
   ]
  },
  {
   "cell_type": "code",
   "execution_count": 19,
   "metadata": {},
   "outputs": [
    {
     "name": "stdout",
     "output_type": "stream",
     "text": [
      "dummy\n",
      "dummy\n"
     ]
    }
   ],
   "source": [
    "var = 'dummy'\n",
    "\n",
    "def parent(arg):\n",
    "    \n",
    "    def child():\n",
    "        print(arg)\n",
    "    \n",
    "    return child\n",
    "\n",
    "# Call it as is\n",
    "my_func = parent(var)\n",
    "my_func()\n",
    "\n",
    "# Call after changing var\n",
    "var = 'new_dummy'\n",
    "my_func()"
   ]
  },
  {
   "cell_type": "markdown",
   "metadata": {},
   "source": [
    "- The closure is an internal memory of a nested function, and it contains all the nonlocal variables stored in a tuple.\n",
    "- Once a value is stored in a closure, it can be accessed but cannot be overridden if the original value gets deleted or modified\n",
    "- A nested function is a function defined in another and follows this general pattern:"
   ]
  },
  {
   "cell_type": "markdown",
   "metadata": {},
   "source": [
    "`>>> def parent(arg):`\n",
    "    \n",
    "`...     def child():`\n",
    "\n",
    "`...        print(arg)`\n",
    "\n",
    "`...    `\n",
    "\n",
    "`...    return child`"
   ]
  },
  {
   "cell_type": "markdown",
   "metadata": {},
   "source": [
    "## Decorators"
   ]
  },
  {
   "cell_type": "code",
   "execution_count": 20,
   "metadata": {},
   "outputs": [],
   "source": [
    "def add_one(func):\n",
    "\n",
    "    def wrapper(a):\n",
    "        return func(a + 1)\n",
    "\n",
    "    return wrapper"
   ]
  },
  {
   "cell_type": "code",
   "execution_count": 27,
   "metadata": {},
   "outputs": [
    {
     "data": {
      "text/plain": [
       "36"
      ]
     },
     "execution_count": 27,
     "metadata": {},
     "output_type": "execute_result"
    }
   ],
   "source": [
    "@add_one\n",
    "def square(a):\n",
    "    return a ** 2\n",
    "\n",
    "square(5)"
   ]
  },
  {
   "cell_type": "markdown",
   "metadata": {},
   "source": [
    "## Real-world Examples With Decorators"
   ]
  },
  {
   "cell_type": "markdown",
   "metadata": {},
   "source": [
    "Create a timer decorator:"
   ]
  },
  {
   "cell_type": "code",
   "execution_count": 29,
   "metadata": {},
   "outputs": [],
   "source": [
    "import time\n",
    "\n",
    "\n",
    "def timer(func):\n",
    "    \"\"\"\n",
    "    A decorator to calculate how long a function runs.\n",
    "    \n",
    "    Parameters\n",
    "    ----------\n",
    "    func: callable\n",
    "      The function being decorated.\n",
    "      \n",
    "    Returns\n",
    "    -------\n",
    "    func: callable\n",
    "      The decorated function.\n",
    "    \"\"\"\n",
    "    def wrapper(*args, **kwargs):\n",
    "        # Start the timer\n",
    "        start = time.time()\n",
    "        # Call the `func`\n",
    "        result = func(*args, **kwargs)\n",
    "        # End the timer\n",
    "        end = time.time()\n",
    "        \n",
    "        print(f\"{func.__name__} took {round(end - start, 4)} seconds to run!\")\n",
    "        \n",
    "        return result\n",
    "\n",
    "    return wrapper"
   ]
  },
  {
   "cell_type": "markdown",
   "metadata": {},
   "source": [
    "This time, notice how we are using *args and **kwargs. They are used when we don't know the exact number of positional and keyword arguments in the function, which is perfect in this case since we may use timer on any kind of function.\n",
    "\n",
    "Now, you can use this decorator on any function to determine how long it runs. No repeated code!"
   ]
  },
  {
   "cell_type": "code",
   "execution_count": 30,
   "metadata": {},
   "outputs": [
    {
     "name": "stdout",
     "output_type": "stream",
     "text": [
      "sleep took 5.0028 seconds to run!\n"
     ]
    }
   ],
   "source": [
    "@timer\n",
    "def sleep(n):\n",
    "    \"\"\"\n",
    "    Sleep for n seconds\n",
    "    \n",
    "    Parameters\n",
    "    ----------\n",
    "    n: int or float\n",
    "      The number of seconds to wait\n",
    "    \"\"\"\n",
    "    time.sleep(n)\n",
    "\n",
    "\n",
    "sleep(5)"
   ]
  },
  {
   "cell_type": "markdown",
   "metadata": {},
   "source": [
    "The next very useful decorator would be a caching decorator. Caching decorators are great for computation-heavy functions, which you may call with the same arguments many times. Caching the results of each function call in the closure will let us immediately return the result if the decorated function gets called with known values:"
   ]
  },
  {
   "cell_type": "code",
   "execution_count": 31,
   "metadata": {},
   "outputs": [],
   "source": [
    "def cache(func):\n",
    "    \"\"\"\n",
    "    A decorator to cache/memoize func's results\n",
    "    \n",
    "    Parameters\n",
    "    ----------\n",
    "    func: callable\n",
    "      The function being decorated\n",
    "    \n",
    "    Returns\n",
    "      func: callable\n",
    "        The decorated function\n",
    "    \"\"\"\n",
    "    # Create a dictionary to store results\n",
    "    cache = {}  # this will be stored in closure because it is nonlocal\n",
    "    \n",
    "    def wrapper(*args, **kwargs):\n",
    "        # Unpack args and kwargs into a tuple to be used as dict keys\n",
    "        keys = (tuple(args) + tuple(kwargs.keys()))\n",
    "        # If not seen before\n",
    "        if keys not in cache:\n",
    "            # Store them in cache\n",
    "            cache[keys] = func(*args, **kwargs)\n",
    "        # Else return the recorded result\n",
    "        return cache[keys]\n",
    "    \n",
    "    return wrapper"
   ]
  },
  {
   "cell_type": "markdown",
   "metadata": {},
   "source": [
    "he caching dictionary would look like this:\n",
    "\n",
    "`cache = {`\n",
    "\n",
    "`    (arg1, arg2, arg3): func(arg1, arg2, arg3)`\n",
    "\n",
    "`}`"
   ]
  },
  {
   "cell_type": "code",
   "execution_count": 32,
   "metadata": {},
   "outputs": [],
   "source": [
    "@timer\n",
    "@cache\n",
    "def sleep(n):\n",
    "    \"\"\"\n",
    "    Sleep for n seconds\n",
    "    \n",
    "    Parameters\n",
    "    ----------\n",
    "    n: int or float\n",
    "      The number of seconds to wait\n",
    "    \"\"\"\n",
    "    time.sleep(n)"
   ]
  },
  {
   "cell_type": "code",
   "execution_count": 33,
   "metadata": {},
   "outputs": [
    {
     "name": "stdout",
     "output_type": "stream",
     "text": [
      "wrapper took 10.0098 seconds to run!\n"
     ]
    }
   ],
   "source": [
    "sleep(10)"
   ]
  },
  {
   "cell_type": "code",
   "execution_count": 34,
   "metadata": {},
   "outputs": [
    {
     "name": "stdout",
     "output_type": "stream",
     "text": [
      "wrapper took 0.0 seconds to run!\n"
     ]
    }
   ],
   "source": [
    "sleep(10)"
   ]
  },
  {
   "cell_type": "markdown",
   "metadata": {},
   "source": [
    "## Decorators That Take Arguments"
   ]
  },
  {
   "cell_type": "markdown",
   "metadata": {},
   "source": [
    "So far, our knowledge of decorators is pretty solid. However, the real power of decorators comes when you enable them to take arguments."
   ]
  },
  {
   "cell_type": "markdown",
   "metadata": {},
   "source": [
    "Consider this decorator, which checks if the function’s result is of type `str`:"
   ]
  },
  {
   "cell_type": "code",
   "execution_count": 35,
   "metadata": {},
   "outputs": [],
   "source": [
    "def is_str(func):\n",
    "    \"\"\"\n",
    "    A decorator to check if `func`'s result is a string\n",
    "    \"\"\"\n",
    "    def wrapper(*args, **kwargs):\n",
    "        # Call func\n",
    "        result = func(*args, **kwargs)\n",
    "        return type(result) == str\n",
    "    return wrapper"
   ]
  },
  {
   "cell_type": "code",
   "execution_count": 36,
   "metadata": {},
   "outputs": [],
   "source": [
    "@is_str\n",
    "def foo(arg):\n",
    "    return arg"
   ]
  },
  {
   "cell_type": "code",
   "execution_count": 37,
   "metadata": {},
   "outputs": [
    {
     "data": {
      "text/plain": [
       "False"
      ]
     },
     "execution_count": 37,
     "metadata": {},
     "output_type": "execute_result"
    }
   ],
   "source": [
    "foo(4)"
   ]
  },
  {
   "cell_type": "code",
   "execution_count": 38,
   "metadata": {},
   "outputs": [
    {
     "data": {
      "text/plain": [
       "True"
      ]
     },
     "execution_count": 38,
     "metadata": {},
     "output_type": "execute_result"
    }
   ],
   "source": [
    "foo(\"Python\")"
   ]
  },
  {
   "cell_type": "markdown",
   "metadata": {},
   "source": [
    "It would be cool if we had a way to check the function’s return type for any data type"
   ]
  },
  {
   "cell_type": "code",
   "execution_count": 40,
   "metadata": {},
   "outputs": [],
   "source": [
    "def is_type(dtype):\n",
    "    \"\"\"\n",
    "    Defines a decorator and returns it.\n",
    "    \"\"\"\n",
    "    def decorator(func):\n",
    "        \"\"\"\n",
    "        A decorator to check if func's result is of type `dtype`\n",
    "        \"\"\"\n",
    "        def wrapper(*args, **kwargs):\n",
    "            result = func(*args, **kwargs)\n",
    "            return type(result) == dtype\n",
    "        return wrapper\n",
    "    return decorator"
   ]
  },
  {
   "cell_type": "code",
   "execution_count": 41,
   "metadata": {},
   "outputs": [
    {
     "data": {
      "text/plain": [
       "True"
      ]
     },
     "execution_count": 41,
     "metadata": {},
     "output_type": "execute_result"
    }
   ],
   "source": [
    "@is_type(dict)\n",
    "def foo(arg):\n",
    "    return arg\n",
    "\n",
    "foo({1: 'Python'})"
   ]
  },
  {
   "cell_type": "code",
   "execution_count": 42,
   "metadata": {},
   "outputs": [
    {
     "data": {
      "text/plain": [
       "True"
      ]
     },
     "execution_count": 42,
     "metadata": {},
     "output_type": "execute_result"
    }
   ],
   "source": [
    "@is_type(int)\n",
    "def square(num):\n",
    "    return num ** 2\n",
    "\n",
    "square(12)"
   ]
  },
  {
   "cell_type": "markdown",
   "metadata": {},
   "source": [
    "First, let’s just create a simple decorator that calls whatever function passed to it:"
   ]
  },
  {
   "cell_type": "code",
   "execution_count": 43,
   "metadata": {},
   "outputs": [],
   "source": [
    "def decorator(func):\n",
    "    def wrapper(*args, **kwargs):\n",
    "        result = func(*args, **kwargs)\n",
    "        return result\n",
    "    return wrapper"
   ]
  },
  {
   "cell_type": "code",
   "execution_count": 44,
   "metadata": {},
   "outputs": [],
   "source": [
    "def is_type(dtype):\n",
    "    \"\"\"\n",
    "    Defines a decorator and returns it.\n",
    "    \n",
    "    Parameters\n",
    "    ----------\n",
    "    dtype: type class\n",
    "      Any data type class such as str, int, float, etc.\n",
    "    \n",
    "    Returns\n",
    "    -------\n",
    "    func: callable\n",
    "      A decorator that checks the return type of a function.\n",
    "    \"\"\"\n",
    "    def decorator(func):\n",
    "        \"\"\"\n",
    "        A decorator that checks the return type of `func`.\n",
    "        \"\"\"\n",
    "        def wrapper(*args, **kwargs):\n",
    "            # Call `func` with given arguments\n",
    "            result = func(*args, **kwargs)\n",
    "            # Return True or False depending if types match or not\n",
    "            return type(result) == dtype\n",
    "        return wrapper\n",
    "    return decorator"
   ]
  },
  {
   "cell_type": "code",
   "execution_count": 46,
   "metadata": {},
   "outputs": [],
   "source": [
    "@is_type(tuple)\n",
    "def return_tuple(arg):\n",
    "    return arg"
   ]
  },
  {
   "cell_type": "code",
   "execution_count": 47,
   "metadata": {},
   "outputs": [
    {
     "data": {
      "text/plain": [
       "True"
      ]
     },
     "execution_count": 47,
     "metadata": {},
     "output_type": "execute_result"
    }
   ],
   "source": [
    "return_tuple((1, 2, 3, 4))"
   ]
  },
  {
   "cell_type": "markdown",
   "metadata": {},
   "source": [
    "## Preserving the Decorated Function’s Metadata"
   ]
  },
  {
   "cell_type": "code",
   "execution_count": 48,
   "metadata": {},
   "outputs": [],
   "source": [
    "@timer\n",
    "def sleep(n=5):\n",
    "    \"\"\"\n",
    "    A function to sleep for n seconds.\n",
    "    \n",
    "    Parameters\n",
    "    ----------\n",
    "    n: int\n",
    "      Number of seconds to sleep.\n",
    "    \"\"\"\n",
    "    time.sleep(n)"
   ]
  },
  {
   "cell_type": "code",
   "execution_count": 50,
   "metadata": {},
   "outputs": [
    {
     "name": "stdout",
     "output_type": "stream",
     "text": [
      "sleep took 3.0013 seconds to run!\n"
     ]
    }
   ],
   "source": [
    "# Call the function for an example\n",
    "sleep(3)"
   ]
  },
  {
   "cell_type": "code",
   "execution_count": 51,
   "metadata": {},
   "outputs": [],
   "source": [
    "# Checking metadata\n",
    "# Extracting the doc string\n",
    "sleep.__doc__"
   ]
  },
  {
   "cell_type": "code",
   "execution_count": 52,
   "metadata": {},
   "outputs": [],
   "source": [
    "# Get the default arguments\n",
    "sleep.__defaults__"
   ]
  },
  {
   "cell_type": "code",
   "execution_count": 53,
   "metadata": {},
   "outputs": [
    {
     "data": {
      "text/plain": [
       "'wrapper'"
      ]
     },
     "execution_count": 53,
     "metadata": {},
     "output_type": "execute_result"
    }
   ],
   "source": [
    "# Get the name\n",
    "sleep.__name__"
   ]
  },
  {
   "cell_type": "markdown",
   "metadata": {},
   "source": [
    "`sleep` had a long docstring and a default argument that was equal to 5. Where did they go? We got the answer when we called `__name__` and got `wrapper` for the function name.\n",
    "\n",
    "We can see that we are not actually returning the passed function but returning it inside `wrapper`. Obviously `wrapper` does not have a docstring or any default arguments, which was why we got `None` above."
   ]
  },
  {
   "cell_type": "markdown",
   "metadata": {},
   "source": [
    "To solve this problem, Python provides us with a helpful function from `functools` module:"
   ]
  },
  {
   "cell_type": "code",
   "execution_count": 54,
   "metadata": {},
   "outputs": [],
   "source": [
    "from functools import wraps"
   ]
  },
  {
   "cell_type": "code",
   "execution_count": 55,
   "metadata": {},
   "outputs": [],
   "source": [
    "def timer(func):\n",
    "    \"\"\"A decorator to calculate how long a function runs.\n",
    "    \"\"\"\n",
    "    @wraps(func)\n",
    "    def wrapper(*args, **kwargs):\n",
    "        # Start the timer\n",
    "        start = time.time()\n",
    "        # Call the `func`\n",
    "        result = func(*args, **kwargs)\n",
    "        # End the timer\n",
    "        end = time.time()\n",
    "        \n",
    "        print(f\"{func.__name__} took {round(end - start, 4)} seconds to run!\")\n",
    "        return result\n",
    "    return wrapper"
   ]
  },
  {
   "cell_type": "markdown",
   "metadata": {},
   "source": [
    "Using `wraps` on the `wrapper` function lets us keep all the metadata attached to `func`. Notice how we are passing `func` to `wraps` above the function definition."
   ]
  },
  {
   "cell_type": "markdown",
   "metadata": {},
   "source": [
    "If we use this modified version of `timer`, we will see that it works as expected:"
   ]
  },
  {
   "cell_type": "code",
   "execution_count": 56,
   "metadata": {},
   "outputs": [],
   "source": [
    "@timer\n",
    "def sleep(n=5):\n",
    "    \"\"\"\n",
    "    A function to sleep for n seconds.\n",
    "    \n",
    "    Parameters\n",
    "    ----------\n",
    "    n: int\n",
    "      Number of seconds to sleep.\n",
    "    \"\"\"\n",
    "    time.sleep(n)"
   ]
  },
  {
   "cell_type": "code",
   "execution_count": 57,
   "metadata": {},
   "outputs": [
    {
     "data": {
      "text/plain": [
       "'sleep'"
      ]
     },
     "execution_count": 57,
     "metadata": {},
     "output_type": "execute_result"
    }
   ],
   "source": [
    "sleep.__name__"
   ]
  },
  {
   "cell_type": "code",
   "execution_count": 60,
   "metadata": {},
   "outputs": [
    {
     "data": {
      "text/plain": [
       "'\\n    A function to sleep for n seconds.\\n    \\n    Parameters\\n    ----------\\n    n: int\\n      Number of seconds to sleep.\\n    '"
      ]
     },
     "execution_count": 60,
     "metadata": {},
     "output_type": "execute_result"
    }
   ],
   "source": [
    "sleep.__doc__"
   ]
  },
  {
   "cell_type": "code",
   "execution_count": null,
   "metadata": {},
   "outputs": [],
   "source": []
  }
 ],
 "metadata": {
  "interpreter": {
   "hash": "e7370f93d1d0cde622a1f8e1c04877d8463912d04d973331ad4851f04de6915a"
  },
  "kernelspec": {
   "display_name": "Python 3.10.4 64-bit",
   "language": "python",
   "name": "python3"
  },
  "language_info": {
   "codemirror_mode": {
    "name": "ipython",
    "version": 3
   },
   "file_extension": ".py",
   "mimetype": "text/x-python",
   "name": "python",
   "nbconvert_exporter": "python",
   "pygments_lexer": "ipython3",
   "version": "3.10.4"
  },
  "orig_nbformat": 4
 },
 "nbformat": 4,
 "nbformat_minor": 2
}
