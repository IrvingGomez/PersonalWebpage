{
 "cells": [
  {
   "cell_type": "code",
   "execution_count": 1,
   "metadata": {},
   "outputs": [],
   "source": [
    "# A decorator in Python is a function that takes another function as its argument, and returns yet another function. \n",
    "def yell(f):\n",
    "    # this will be the function that you will return\n",
    "    def internal(*args, **kwargs):\n",
    "        # here I modify the arguments\n",
    "        new_args = [arg.upper() for arg in args if type(arg) is str]\n",
    "        # and call the function with the `args` modified\n",
    "        return f(*new_args, **kwargs)\n",
    "        \n",
    "    return internal\n",
    "\n",
    "def hello(name):\n",
    "    print(\"Hello \" + name)\n",
    "\n",
    "@yell\n",
    "def hello_yelled(name):\n",
    "    print(\"Hello \" + name)"
   ]
  },
  {
   "cell_type": "code",
   "execution_count": 2,
   "metadata": {},
   "outputs": [
    {
     "name": "stdout",
     "output_type": "stream",
     "text": [
      "Hello Irving\n"
     ]
    }
   ],
   "source": [
    "hello(\"Irving\")"
   ]
  },
  {
   "cell_type": "code",
   "execution_count": 3,
   "metadata": {},
   "outputs": [
    {
     "name": "stdout",
     "output_type": "stream",
     "text": [
      "Hello IRVING\n"
     ]
    }
   ],
   "source": [
    "hello_yelled(\"Irving\")"
   ]
  }
 ],
 "metadata": {
  "interpreter": {
   "hash": "e7370f93d1d0cde622a1f8e1c04877d8463912d04d973331ad4851f04de6915a"
  },
  "kernelspec": {
   "display_name": "Python 3.10.4 64-bit",
   "language": "python",
   "name": "python3"
  },
  "language_info": {
   "codemirror_mode": {
    "name": "ipython",
    "version": 3
   },
   "file_extension": ".py",
   "mimetype": "text/x-python",
   "name": "python",
   "nbconvert_exporter": "python",
   "pygments_lexer": "ipython3",
   "version": "3.10.4"
  },
  "orig_nbformat": 4
 },
 "nbformat": 4,
 "nbformat_minor": 2
}
